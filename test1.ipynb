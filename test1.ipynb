{
 "cells": [
  {
   "cell_type": "code",
   "execution_count": 2,
   "metadata": {},
   "outputs": [],
   "source": [
    "import os \n",
    "import re\n",
    "import pandas as pd\n",
    "import numpy as np\n",
    "import torch\n",
    "\n",
    "from sklearn.preprocessing import MinMaxScaler\n",
    "\n",
    "a = !ls ./*/*.bed\n",
    "\n",
    "file = a[0]\n",
    "\n",
    "# CROMOSOMA ENTERO DE UN TEJIDO\n",
    "fasta = open ('chr1.fa','r')\n",
    "cromo = fasta.read().replace('\\n','').upper()\n",
    "\n",
    "\n",
    "bed = open(file,'r')\n",
    "\n",
    "cromosoma = 'chr1'\n",
    "\n",
    "\n",
    "chrs = []\n",
    "\n",
    "for line in bed.readlines():\n",
    "    chrs.append(line.replace('\\n','').split('\\t'))\n",
    "\n",
    "chrs  = pd.DataFrame(np.array(chrs))\n",
    "\n",
    "chr1 = chrs [chrs[0] == cromosoma]\n",
    "\n",
    "\n",
    "b = np.array(chr1[[1]])\n",
    "\n",
    "e = np.array(chr1[[2]])\n",
    "\n",
    "\n",
    "\n"
   ]
  },
  {
   "cell_type": "code",
   "execution_count": 3,
   "metadata": {},
   "outputs": [
    {
     "data": {
      "text/plain": [
       "120485363"
      ]
     },
     "execution_count": 3,
     "metadata": {},
     "output_type": "execute_result"
    }
   ],
   "source": [
    "int(b[0])"
   ]
  },
  {
   "cell_type": "code",
   "execution_count": 6,
   "metadata": {},
   "outputs": [
    {
     "data": {
      "text/plain": [
       "249250626"
      ]
     },
     "execution_count": 6,
     "metadata": {},
     "output_type": "execute_result"
    }
   ],
   "source": [
    "sample = cromo[20000:20200]\n",
    "len(cromo)"
   ]
  },
  {
   "cell_type": "code",
   "execution_count": 8,
   "metadata": {},
   "outputs": [],
   "source": [
    "bases = list('AGCTN')\n",
    "\n",
    "dic = {base:indice for indice,base in enumerate(bases)}    \n",
    "\n",
    "l = torch.zeros(4)\n",
    "\n",
    "\n",
    "#seq = [ dic[base] for base in list(sample) ]\n",
    "def bob(sample):\n",
    "    bob = []\n",
    "    for base in list(sample):\n",
    "        l = torch.zeros(5)\n",
    "        l[dic[base]]+=1\n",
    "        bob.append(l)\n",
    "    return bob\n",
    "\n",
    "s_enh = bob(cromo[int(b[0]):int(e[0])])\n"
   ]
  },
  {
   "cell_type": "code",
   "execution_count": 9,
   "metadata": {},
   "outputs": [
    {
     "data": {
      "text/html": [
       "<div>\n",
       "<style scoped>\n",
       "    .dataframe tbody tr th:only-of-type {\n",
       "        vertical-align: middle;\n",
       "    }\n",
       "\n",
       "    .dataframe tbody tr th {\n",
       "        vertical-align: top;\n",
       "    }\n",
       "\n",
       "    .dataframe thead th {\n",
       "        text-align: right;\n",
       "    }\n",
       "</style>\n",
       "<table border=\"1\" class=\"dataframe\">\n",
       "  <thead>\n",
       "    <tr style=\"text-align: right;\">\n",
       "      <th></th>\n",
       "      <th>Rise</th>\n",
       "      <th>Roll</th>\n",
       "      <th>Shift</th>\n",
       "      <th>Slide</th>\n",
       "      <th>Tilt</th>\n",
       "      <th>Twist</th>\n",
       "    </tr>\n",
       "  </thead>\n",
       "  <tbody>\n",
       "    <tr>\n",
       "      <th>AA</th>\n",
       "      <td>7.65</td>\n",
       "      <td>2.26</td>\n",
       "      <td>1.69</td>\n",
       "      <td>0.026</td>\n",
       "      <td>0.020</td>\n",
       "      <td>0.038</td>\n",
       "    </tr>\n",
       "    <tr>\n",
       "      <th>AC</th>\n",
       "      <td>8.93</td>\n",
       "      <td>3.03</td>\n",
       "      <td>1.32</td>\n",
       "      <td>0.036</td>\n",
       "      <td>0.023</td>\n",
       "      <td>0.038</td>\n",
       "    </tr>\n",
       "    <tr>\n",
       "      <th>AG</th>\n",
       "      <td>7.08</td>\n",
       "      <td>2.03</td>\n",
       "      <td>1.46</td>\n",
       "      <td>0.031</td>\n",
       "      <td>0.019</td>\n",
       "      <td>0.037</td>\n",
       "    </tr>\n",
       "    <tr>\n",
       "      <th>AT</th>\n",
       "      <td>9.07</td>\n",
       "      <td>3.83</td>\n",
       "      <td>1.03</td>\n",
       "      <td>0.033</td>\n",
       "      <td>0.022</td>\n",
       "      <td>0.036</td>\n",
       "    </tr>\n",
       "    <tr>\n",
       "      <th>CA</th>\n",
       "      <td>6.38</td>\n",
       "      <td>1.78</td>\n",
       "      <td>1.07</td>\n",
       "      <td>0.016</td>\n",
       "      <td>0.017</td>\n",
       "      <td>0.025</td>\n",
       "    </tr>\n",
       "    <tr>\n",
       "      <th>CC</th>\n",
       "      <td>8.04</td>\n",
       "      <td>1.65</td>\n",
       "      <td>1.43</td>\n",
       "      <td>0.026</td>\n",
       "      <td>0.019</td>\n",
       "      <td>0.042</td>\n",
       "    </tr>\n",
       "    <tr>\n",
       "      <th>CG</th>\n",
       "      <td>6.23</td>\n",
       "      <td>2.00</td>\n",
       "      <td>1.08</td>\n",
       "      <td>0.014</td>\n",
       "      <td>0.016</td>\n",
       "      <td>0.026</td>\n",
       "    </tr>\n",
       "    <tr>\n",
       "      <th>CT</th>\n",
       "      <td>7.08</td>\n",
       "      <td>2.03</td>\n",
       "      <td>1.46</td>\n",
       "      <td>0.031</td>\n",
       "      <td>0.019</td>\n",
       "      <td>0.037</td>\n",
       "    </tr>\n",
       "    <tr>\n",
       "      <th>GA</th>\n",
       "      <td>8.56</td>\n",
       "      <td>1.93</td>\n",
       "      <td>1.32</td>\n",
       "      <td>0.025</td>\n",
       "      <td>0.020</td>\n",
       "      <td>0.038</td>\n",
       "    </tr>\n",
       "    <tr>\n",
       "      <th>GC</th>\n",
       "      <td>9.53</td>\n",
       "      <td>2.61</td>\n",
       "      <td>1.20</td>\n",
       "      <td>0.025</td>\n",
       "      <td>0.026</td>\n",
       "      <td>0.036</td>\n",
       "    </tr>\n",
       "    <tr>\n",
       "      <th>GG</th>\n",
       "      <td>8.04</td>\n",
       "      <td>1.65</td>\n",
       "      <td>1.43</td>\n",
       "      <td>0.026</td>\n",
       "      <td>0.019</td>\n",
       "      <td>0.042</td>\n",
       "    </tr>\n",
       "    <tr>\n",
       "      <th>GT</th>\n",
       "      <td>8.93</td>\n",
       "      <td>3.03</td>\n",
       "      <td>1.32</td>\n",
       "      <td>0.036</td>\n",
       "      <td>0.023</td>\n",
       "      <td>0.038</td>\n",
       "    </tr>\n",
       "    <tr>\n",
       "      <th>TA</th>\n",
       "      <td>6.23</td>\n",
       "      <td>1.20</td>\n",
       "      <td>0.72</td>\n",
       "      <td>0.017</td>\n",
       "      <td>0.016</td>\n",
       "      <td>0.018</td>\n",
       "    </tr>\n",
       "    <tr>\n",
       "      <th>TC</th>\n",
       "      <td>8.56</td>\n",
       "      <td>1.93</td>\n",
       "      <td>1.32</td>\n",
       "      <td>0.025</td>\n",
       "      <td>0.020</td>\n",
       "      <td>0.038</td>\n",
       "    </tr>\n",
       "    <tr>\n",
       "      <th>TG</th>\n",
       "      <td>6.38</td>\n",
       "      <td>1.78</td>\n",
       "      <td>1.07</td>\n",
       "      <td>0.016</td>\n",
       "      <td>0.017</td>\n",
       "      <td>0.025</td>\n",
       "    </tr>\n",
       "    <tr>\n",
       "      <th>TT</th>\n",
       "      <td>7.65</td>\n",
       "      <td>2.26</td>\n",
       "      <td>1.69</td>\n",
       "      <td>0.026</td>\n",
       "      <td>0.020</td>\n",
       "      <td>0.038</td>\n",
       "    </tr>\n",
       "  </tbody>\n",
       "</table>\n",
       "</div>"
      ],
      "text/plain": [
       "    Rise  Roll  Shift  Slide   Tilt  Twist\n",
       "AA  7.65  2.26   1.69  0.026  0.020  0.038\n",
       "AC  8.93  3.03   1.32  0.036  0.023  0.038\n",
       "AG  7.08  2.03   1.46  0.031  0.019  0.037\n",
       "AT  9.07  3.83   1.03  0.033  0.022  0.036\n",
       "CA  6.38  1.78   1.07  0.016  0.017  0.025\n",
       "CC  8.04  1.65   1.43  0.026  0.019  0.042\n",
       "CG  6.23  2.00   1.08  0.014  0.016  0.026\n",
       "CT  7.08  2.03   1.46  0.031  0.019  0.037\n",
       "GA  8.56  1.93   1.32  0.025  0.020  0.038\n",
       "GC  9.53  2.61   1.20  0.025  0.026  0.036\n",
       "GG  8.04  1.65   1.43  0.026  0.019  0.042\n",
       "GT  8.93  3.03   1.32  0.036  0.023  0.038\n",
       "TA  6.23  1.20   0.72  0.017  0.016  0.018\n",
       "TC  8.56  1.93   1.32  0.025  0.020  0.038\n",
       "TG  6.38  1.78   1.07  0.016  0.017  0.025\n",
       "TT  7.65  2.26   1.69  0.026  0.020  0.038"
      ]
     },
     "metadata": {},
     "output_type": "display_data"
    }
   ],
   "source": [
    "psch =  '/home/agustin/Aprendizaje_Profundo/TP/chinos/DeployEnhancerModel/data/S2.csv'\n",
    "\n",
    "psch_df = pd.read_csv(psch,sep=',',index_col =0)\n",
    "display(psch_df)\n",
    "scaler = MinMaxScaler()\n",
    "\n",
    "psch_df.loc[:, :] = scaler.fit_transform(psch_df.values)\n",
    "\n",
    "ix = [ sample[i:i+2] for i in range(len(sample) - 1) ][:5]\n"
   ]
  },
  {
   "cell_type": "code",
   "execution_count": 10,
   "metadata": {},
   "outputs": [
    {
     "data": {
      "text/plain": [
       "[0.7060606060606063,\n",
       " 0.25757575757575757,\n",
       " 0.04545454545454519,\n",
       " 0.8181818181818181,\n",
       " 0.7060606060606063]"
      ]
     },
     "execution_count": 10,
     "metadata": {},
     "output_type": "execute_result"
    }
   ],
   "source": [
    "list(map(lambda x: psch_df['Rise'][x], [ sample[i:i+2] for i in range(len(sample) - 1) ][:5]))"
   ]
  },
  {
   "cell_type": "code",
   "execution_count": 15,
   "metadata": {},
   "outputs": [
    {
     "data": {
      "text/plain": [
       "'120485363'"
      ]
     },
     "execution_count": 15,
     "metadata": {},
     "output_type": "execute_result"
    }
   ],
   "source": [
    "b[0][0]"
   ]
  },
  {
   "cell_type": "code",
   "execution_count": 17,
   "metadata": {},
   "outputs": [],
   "source": [
    "s_enh = cromo [int(b[0][0]):int(e[0][0])]"
   ]
  },
  {
   "cell_type": "code",
   "execution_count": 19,
   "metadata": {},
   "outputs": [
    {
     "data": {
      "text/plain": [
       "129708"
      ]
     },
     "execution_count": 19,
     "metadata": {},
     "output_type": "execute_result"
    }
   ],
   "source": [
    "len(s_enh)\n"
   ]
  },
  {
   "cell_type": "code",
   "execution_count": null,
   "metadata": {},
   "outputs": [],
   "source": []
  }
 ],
 "metadata": {
  "kernelspec": {
   "display_name": "Python 3",
   "language": "python",
   "name": "python3"
  },
  "language_info": {
   "codemirror_mode": {
    "name": "ipython",
    "version": 3
   },
   "file_extension": ".py",
   "mimetype": "text/x-python",
   "name": "python",
   "nbconvert_exporter": "python",
   "pygments_lexer": "ipython3",
   "version": "3.7.3"
  }
 },
 "nbformat": 4,
 "nbformat_minor": 2
}
